{
  "cells": [
    {
      "cell_type": "code",
      "execution_count": null,
      "metadata": {
        "gather": {
          "logged": 1680135162273
        },
        "jupyter": {
          "outputs_hidden": false,
          "source_hidden": false
        },
        "nteract": {
          "transient": {
            "deleting": false
          }
        }
      },
      "outputs": [],
      "source": [
        "import os\n",
        "import azureml.core\n",
        "from azureml.core import (\n",
        "    Workspace,\n",
        "    Experiment,\n",
        "    Dataset,\n",
        "    Datastore,\n",
        "    ComputeTarget,\n",
        "    Environment,\n",
        "    ScriptRunConfig\n",
        ")\n",
        "from azureml.data import OutputFileDatasetConfig\n",
        "from azureml.core.compute import AmlCompute\n",
        "from azureml.core.compute_target import ComputeTargetException\n",
        "from azureml.pipeline.steps import PythonScriptStep\n",
        "from azureml.pipeline.core import Pipeline\n",
        "from azureml.core.runconfig import RunConfiguration\n",
        "from azureml.core.conda_dependencies import CondaDependencies\n",
        "from azureml.pipeline.core import PublishedPipeline\n",
        "from azureml.pipeline.core import PipelineData\n",
        "\n",
        "print(\"Azure ML SDK Version: \", azureml.core.VERSION)"
      ]
    },
    {
      "cell_type": "code",
      "execution_count": null,
      "metadata": {
        "gather": {
          "logged": 1680135165246
        },
        "jupyter": {
          "outputs_hidden": false,
          "source_hidden": false
        },
        "nteract": {
          "transient": {
            "deleting": false
          }
        }
      },
      "outputs": [],
      "source": [
        "workspace = Workspace.from_config()\n",
        "print(f\"workspace: {workspace}\")\n",
        "\n",
        "exp = Experiment(workspace=workspace, name=\"gpu-fashion\")"
      ]
    },
    {
      "cell_type": "code",
      "execution_count": null,
      "metadata": {
        "gather": {
          "logged": 1680135173219
        },
        "jupyter": {
          "outputs_hidden": false,
          "source_hidden": false
        },
        "nteract": {
          "transient": {
            "deleting": false
          }
        }
      },
      "outputs": [],
      "source": [
        "cluster_name = \"gpu-cluster\"\n",
        "\n",
        "found = False\n",
        "\n",
        "cts = workspace.compute_targets\n",
        "if cluster_name in cts and cts[cluster_name].type == \"AmlCompute\":\n",
        "    found = True\n",
        "    print(\"Found existing compute target.\")\n",
        "    compute_target = cts[cluster_name]\n",
        "if not found:\n",
        "    print(\"Creating a new compute target...\")\n",
        "    compute_config = AmlCompute.provisioning_configuration(\n",
        "        vm_size= \"Standard_NV6\",\n",
        "        max_nodes=1,\n",
        "    )\n",
        "    compute_target = ComputeTarget.create(workspace, cluster_name, compute_config)\n",
        "    compute_target.wait_for_completion(\n",
        "        show_output=True, min_node_count=None, timeout_in_minutes=10\n",
        "    )"
      ]
    },
    {
      "cell_type": "code",
      "execution_count": null,
      "metadata": {
        "gather": {
          "logged": 1680143009728
        },
        "jupyter": {
          "outputs_hidden": false,
          "source_hidden": false
        },
        "nteract": {
          "transient": {
            "deleting": false
          }
        }
      },
      "outputs": [],
      "source": [
        "run_config = RunConfiguration()\n",
        "run_config.environment.docker.enabled = True\n",
        "\n",
        "run_config.environment.docker.base_image = (\n",
        "    \"mcr.microsoft.com/azureml/openmpi4.1.0-cuda11.3-cudnn8-ubuntu20.04\"\n",
        ")\n",
        "\n",
        "conda = CondaDependencies()\n",
        "conda.add_pip_package('azureml-sdk[automl]')\n",
        "conda.add_pip_package('opencv-python-headless')\n",
        "conda.add_pip_package('tensorflow-gpu==2.11.0')\n",
        "\n",
        "run_config.environment.python.conda_dependencies = conda"
      ]
    },
    {
      "cell_type": "code",
      "execution_count": null,
      "metadata": {
        "gather": {
          "logged": 1680143013380
        },
        "jupyter": {
          "outputs_hidden": false,
          "source_hidden": false
        },
        "nteract": {
          "transient": {
            "deleting": false
          }
        }
      },
      "outputs": [],
      "source": [
        "from azureml.pipeline.core import PipelineParameter\n",
        "from azureml.data.datapath import DataPath, DataPathComputeBinding\n",
        "from azureml.data.data_reference import DataReference\n",
        "from azureml.core import Dataset\n",
        "\n",
        "script_folder = \"./gpu-python\"\n",
        "\n",
        "training = PythonScriptStep(\n",
        "    name=\"GPU Step\",\n",
        "    script_name=\"gpu.py\",\n",
        "    source_directory=script_folder,\n",
        "    compute_target=compute_target,\n",
        "    runconfig=run_config,\n",
        "    allow_reuse=False,\n",
        ")\n",
        "\n",
        "\n",
        "pipeline = Pipeline(workspace, steps=[training])\n",
        "\n",
        "print(\"Pipeline is built\")\n",
        "pipeline.validate()"
      ]
    },
    {
      "cell_type": "code",
      "execution_count": null,
      "metadata": {
        "gather": {
          "logged": 1680143018334
        },
        "jupyter": {
          "outputs_hidden": false,
          "source_hidden": false
        },
        "nteract": {
          "transient": {
            "deleting": false
          }
        }
      },
      "outputs": [],
      "source": [
        "run = exp.submit(pipeline, regenerate_outputs=True)"
      ]
    }
  ],
  "metadata": {
    "kernel_info": {
      "name": "python38-azureml"
    },
    "kernelspec": {
      "display_name": "Python 3.8 - AzureML",
      "language": "python",
      "name": "python38-azureml"
    },
    "language_info": {
      "codemirror_mode": {
        "name": "ipython",
        "version": 3
      },
      "file_extension": ".py",
      "mimetype": "text/x-python",
      "name": "python",
      "nbconvert_exporter": "python",
      "pygments_lexer": "ipython3",
      "version": "3.8.10"
    },
    "microsoft": {
      "host": {
        "AzureML": {
          "notebookHasBeenCompleted": true
        }
      },
      "ms_spell_check": {
        "ms_spell_check_language": "en"
      }
    },
    "nteract": {
      "version": "nteract-front-end@1.0.0"
    }
  },
  "nbformat": 4,
  "nbformat_minor": 2
}
